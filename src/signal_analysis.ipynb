import numpy as np
import matplotlib.pyplot as plt
from scipy.signal import butter, filtfilt
from sympy import symbols, laplace_transform, Heaviside, exp

#Generate a noisy signal (synthetic ECG-like)
Fs = 1000  # sampling frequency
t = np.linspace(0, 1, Fs, endpoint=False)
signal = np.sin(2 * np.pi * 50 * t) + 0.5 * np.sin(2 * np.pi * 120 * t)
noisy_signal = signal + 0.2 * np.random.randn(len(t))

# Plot noisy signal
plt.figure()
plt.plot(t, noisy_signal)
plt.title("Noisy Signal (Time Domain)")
plt.xlabel("Time [s]")
plt.ylabel("Amplitude")
plt.savefig("results/noisy_signal.png")

#Fourier Transform
freqs = np.fft.fftfreq(len(t), 1/Fs)
fft_vals = np.fft.fft(noisy_signal)

plt.figure()
plt.plot(freqs[:Fs//2], np.abs(fft_vals)[:Fs//2])
plt.title("Frequency Spectrum (FFT)")
plt.xlabel("Frequency [Hz]")
plt.ylabel("Magnitude")
plt.savefig("results/spectrum.png")

# Noise Filtering (Low-pass Butterworth)
fc = 100  # cutoff frequency
b, a = butter(4, fc/(Fs/2), btype='low')
filtered_signal = filtfilt(b, a, noisy_signal)

plt.figure()
plt.plot(t, filtered_signal, color='green')
plt.title("Filtered Signal (After LPF)")
plt.xlabel("Time [s]")
plt.ylabel("Amplitude")
plt.savefig("results/filtered_signal.png")

# Laplace Transform Example (Symbolic)
t_sym = symbols('t', positive=True)
f_sym = exp(-2*t_sym) * Heaviside(t_sym)
laplace_expr = laplace_transform(f_sym, t_sym, symbols('s'))
print("Laplace Transform of exp(-2t)u(t):", laplace_expr)
